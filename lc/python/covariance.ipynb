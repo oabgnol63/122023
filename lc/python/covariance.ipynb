{
 "cells": [
  {
   "cell_type": "code",
   "execution_count": 3,
   "metadata": {},
   "outputs": [
    {
     "name": "stdout",
     "output_type": "stream",
     "text": [
      "[[ 4.33333333  3.83333333]\n",
      " [ 3.83333333 10.33333333]]\n"
     ]
    }
   ],
   "source": [
    "import numpy as np\n",
    "X = np.array([[-2, -2], [-1, 4], [2, 3]])\n",
    "# Ham tinh ma tran hiep phuong sai\n",
    "C1 = np.cov(X.T)\n",
    "print(C1)"
   ]
  },
  {
   "cell_type": "code",
   "execution_count": 4,
   "metadata": {},
   "outputs": [
    {
     "name": "stdout",
     "output_type": "stream",
     "text": [
      "[[-2 -1  2]\n",
      " [-2  4  3]]\n"
     ]
    }
   ],
   "source": [
    "# ma tran chuyen vi\n",
    "XT = X.T \n",
    "print(XT)"
   ]
  },
  {
   "cell_type": "code",
   "execution_count": 12,
   "metadata": {},
   "outputs": [
    {
     "name": "stdout",
     "output_type": "stream",
     "text": [
      "[[-1.66666667 -0.66666667  2.33333333]\n",
      " [-3.66666667  2.33333333  1.33333333]]\n"
     ]
    }
   ],
   "source": [
    "# tinh trung binh tren tung truc toa do\n",
    "Mx = (-2 - 1 + 2) / 3\n",
    "My = (-2 + 4 +3) / 3\n",
    "M = np.array([[Mx, My], [Mx, My], [Mx, My]])\n",
    "# do lech cua mau so voi trung binh mau\n",
    "D = XT - M.T\n",
    "print(D)"
   ]
  },
  {
   "cell_type": "code",
   "execution_count": 13,
   "metadata": {},
   "outputs": [
    {
     "name": "stdout",
     "output_type": "stream",
     "text": [
      "[[ 4.33333333  3.83333333]\n",
      " [ 3.83333333 10.33333333]]\n"
     ]
    }
   ],
   "source": [
    "# ma tran hiep binh phuong : 1/(N-1) * D * D.T\n",
    "Cov = (1/2) * np.dot(D ,D.T)\n",
    "print(Cov)"
   ]
  }
 ],
 "metadata": {
  "kernelspec": {
   "display_name": "Python 3",
   "language": "python",
   "name": "python3"
  },
  "language_info": {
   "codemirror_mode": {
    "name": "ipython",
    "version": 3
   },
   "file_extension": ".py",
   "mimetype": "text/x-python",
   "name": "python",
   "nbconvert_exporter": "python",
   "pygments_lexer": "ipython3",
   "version": "3.12.1"
  }
 },
 "nbformat": 4,
 "nbformat_minor": 2
}
